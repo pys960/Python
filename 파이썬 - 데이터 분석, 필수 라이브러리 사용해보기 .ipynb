{
 "cells": [
  {
   "cell_type": "markdown",
   "id": "4837f9f8",
   "metadata": {},
   "source": [
    "# 1. Numpy\n",
    "- 고성능 과학계산을 위한 데이터분석 라이브러리\n",
    "- 벡턴 산술연산을 제공하는 다차원 배열 제공(ndarray 클래스)\n",
    "- 반복문 없이 전체 데이터 배열 연산 가능(sum(), sqrt(), mead())\n",
    "- 선형대수, 난수(random수) 생성, 푸리에 변환"
   ]
  },
  {
   "cell_type": "code",
   "execution_count": 2,
   "id": "4c193fd5",
   "metadata": {},
   "outputs": [],
   "source": [
    "import numpy as np # numpy 불러오고 np라는 별칭지정"
   ]
  },
  {
   "cell_type": "markdown",
   "id": "9bde2193",
   "metadata": {},
   "source": [
    "### 배열(array) 만들기"
   ]
  },
  {
   "cell_type": "code",
   "execution_count": 8,
   "id": "3cea3ef9",
   "metadata": {},
   "outputs": [
    {
     "data": {
      "text/plain": [
       "array([1, 2, 3, 4, 5])"
      ]
     },
     "execution_count": 8,
     "metadata": {},
     "output_type": "execute_result"
    }
   ],
   "source": [
    "np.list1 =[1,2,3,4,5] #numpy에 있는 array라는 자료형\n",
    "np.array(list1) #1차원 배열"
   ]
  },
  {
   "cell_type": "code",
   "execution_count": 10,
   "id": "bc3c4c8d",
   "metadata": {},
   "outputs": [
    {
     "data": {
      "text/plain": [
       "[[1, 2, 3], [4, 5, 6]]"
      ]
     },
     "execution_count": 10,
     "metadata": {},
     "output_type": "execute_result"
    }
   ],
   "source": [
    "list2 = [[1,2,3], [4,5,6]] \n",
    "list2"
   ]
  },
  {
   "cell_type": "code",
   "execution_count": 14,
   "id": "85c22513",
   "metadata": {},
   "outputs": [
    {
     "data": {
      "text/plain": [
       "array([[1, 2, 3],\n",
       "       [4, 5, 6]])"
      ]
     },
     "execution_count": 14,
     "metadata": {},
     "output_type": "execute_result"
    }
   ],
   "source": [
    "arr2 = np.array(list2) #2차원 배열\n",
    "arr2"
   ]
  },
  {
   "cell_type": "markdown",
   "id": "cc760052",
   "metadata": {},
   "source": [
    "### 배열의 크기 확인"
   ]
  },
  {
   "cell_type": "code",
   "execution_count": 16,
   "id": "5b9edc94",
   "metadata": {},
   "outputs": [
    {
     "data": {
      "text/plain": [
       "(2, 3)"
      ]
     },
     "execution_count": 16,
     "metadata": {},
     "output_type": "execute_result"
    }
   ],
   "source": [
    "# shape : 배열의 크기\n",
    "arr2.shape"
   ]
  },
  {
   "cell_type": "code",
   "execution_count": 17,
   "id": "6f675462",
   "metadata": {},
   "outputs": [
    {
     "data": {
      "text/plain": [
       "6"
      ]
     },
     "execution_count": 17,
     "metadata": {},
     "output_type": "execute_result"
    }
   ],
   "source": [
    "# size : 총 요소 개수 확인\n",
    "arr2.size"
   ]
  },
  {
   "cell_type": "code",
   "execution_count": 18,
   "id": "11d4c8a4",
   "metadata": {},
   "outputs": [
    {
     "data": {
      "text/plain": [
       "2"
      ]
     },
     "execution_count": 18,
     "metadata": {},
     "output_type": "execute_result"
    }
   ],
   "source": [
    "# ndim : 배열의 차원\n",
    "arr2.ndim"
   ]
  },
  {
   "cell_type": "code",
   "execution_count": 36,
   "id": "f7f878da",
   "metadata": {},
   "outputs": [
    {
     "name": "stdout",
     "output_type": "stream",
     "text": [
      "배열의 크기 :  (2, 2, 2)\n",
      "배열의 요소 개수 :  8\n",
      "배열의 차원 :  3\n"
     ]
    }
   ],
   "source": [
    "list3=[ [ [1,2], [3,4] ], [ [5,6], [7,8] ] ]\n",
    "arr3 = np.array(list3)\n",
    "print(\"배열의 크기 : \", arr3.shape)\n",
    "print(\"배열의 요소 개수 : \", arr3.size)\n",
    "print(\"배열의 차원 : \", arr3.ndim)"
   ]
  },
  {
   "cell_type": "markdown",
   "id": "a5ba361d",
   "metadata": {},
   "source": [
    "### array 생성"
   ]
  },
  {
   "cell_type": "code",
   "execution_count": 37,
   "id": "d4d89e24",
   "metadata": {},
   "outputs": [
    {
     "data": {
      "text/plain": [
       "array([[0., 0., 0., 0.],\n",
       "       [0., 0., 0., 0.],\n",
       "       [0., 0., 0., 0.]])"
      ]
     },
     "execution_count": 37,
     "metadata": {},
     "output_type": "execute_result"
    }
   ],
   "source": [
    "# 특정한 값으로 배열 생성\n",
    "# np.zeros((행, 열)) 0으로 이루어진 배열 생성\n",
    "np.zeros((3,4)) # 기본적인 타입은 float형 소수점임."
   ]
  },
  {
   "cell_type": "code",
   "execution_count": 39,
   "id": "88bbb071",
   "metadata": {},
   "outputs": [
    {
     "data": {
      "text/plain": [
       "array([[1., 1., 1., 1., 1.],\n",
       "       [1., 1., 1., 1., 1.]])"
      ]
     },
     "execution_count": 39,
     "metadata": {},
     "output_type": "execute_result"
    }
   ],
   "source": [
    "# 1로만 이루어진 배열 생성\n",
    "np.ones((2,5)) "
   ]
  },
  {
   "cell_type": "code",
   "execution_count": 40,
   "id": "10d66d9b",
   "metadata": {},
   "outputs": [
    {
     "data": {
      "text/plain": [
       "array([[3, 3, 3],\n",
       "       [3, 3, 3],\n",
       "       [3, 3, 3]])"
      ]
     },
     "execution_count": 40,
     "metadata": {},
     "output_type": "execute_result"
    }
   ],
   "source": [
    "#np.full((크기, 원하는 값))\n",
    "np.full((3,3), 3)"
   ]
  },
  {
   "cell_type": "markdown",
   "id": "db8ae77a",
   "metadata": {},
   "source": [
    "### 범위 배열 생성하기"
   ]
  },
  {
   "cell_type": "code",
   "execution_count": 43,
   "id": "025990d4",
   "metadata": {},
   "outputs": [],
   "source": [
    "# 1~50 범위 배열 생성1\n",
    "# 1. 1~50 범위의 list\n",
    "\n",
    "list1 = []\n",
    "for i in range(1, 51):\n",
    "    list1.append(i)"
   ]
  },
  {
   "cell_type": "code",
   "execution_count": 44,
   "id": "c3e1ff7c",
   "metadata": {},
   "outputs": [
    {
     "data": {
      "text/plain": [
       "array([ 1,  2,  3,  4,  5,  6,  7,  8,  9, 10, 11, 12, 13, 14, 15, 16, 17,\n",
       "       18, 19, 20, 21, 22, 23, 24, 25, 26, 27, 28, 29, 30, 31, 32, 33, 34,\n",
       "       35, 36, 37, 38, 39, 40, 41, 42, 43, 44, 45, 46, 47, 48, 49, 50])"
      ]
     },
     "execution_count": 44,
     "metadata": {},
     "output_type": "execute_result"
    }
   ],
   "source": [
    "#2. list로 array 생성\n",
    "np.array(list1)"
   ]
  },
  {
   "cell_type": "code",
   "execution_count": 45,
   "id": "8582d94b",
   "metadata": {},
   "outputs": [
    {
     "data": {
      "text/plain": [
       "array([ 1,  2,  3,  4,  5,  6,  7,  8,  9, 10, 11, 12, 13, 14, 15, 16, 17,\n",
       "       18, 19, 20, 21, 22, 23, 24, 25, 26, 27, 28, 29, 30, 31, 32, 33, 34,\n",
       "       35, 36, 37, 38, 39, 40, 41, 42, 43, 44, 45, 46, 47, 48, 49, 50])"
      ]
     },
     "execution_count": 45,
     "metadata": {},
     "output_type": "execute_result"
    }
   ],
   "source": [
    "# 1~50 범위 배열 생성2\n",
    "# arange() 함수 - 배열 형태로 바로 범위 지정하는 함수\n",
    "np.arange(1,51)"
   ]
  },
  {
   "cell_type": "markdown",
   "id": "f9a29171",
   "metadata": {},
   "source": [
    "### 난수 배열 생성하기"
   ]
  },
  {
   "cell_type": "code",
   "execution_count": 46,
   "id": "51dce3d1",
   "metadata": {},
   "outputs": [
    {
     "data": {
      "text/plain": [
       "array([[0.51492441, 0.22489807, 0.80493126],\n",
       "       [0.11697984, 0.36975702, 0.33153982]])"
      ]
     },
     "execution_count": 46,
     "metadata": {},
     "output_type": "execute_result"
    }
   ],
   "source": [
    "#랜덤 값 생성하기\n",
    "#0~1사이 값\n",
    "np.random.rand(2, 3)"
   ]
  },
  {
   "cell_type": "code",
   "execution_count": 50,
   "id": "acaf3b21",
   "metadata": {},
   "outputs": [
    {
     "data": {
      "text/plain": [
       "4"
      ]
     },
     "execution_count": 50,
     "metadata": {},
     "output_type": "execute_result"
    }
   ],
   "source": [
    "#랜덤 값 생성하기2\n",
    "#(시작, n-1)사이의 랜덤한 정수 1개 생성\n",
    "np.random.randint(2, 10)"
   ]
  },
  {
   "cell_type": "code",
   "execution_count": 53,
   "id": "fd341845",
   "metadata": {},
   "outputs": [
    {
     "data": {
      "text/plain": [
       "array([[4, 6, 3],\n",
       "       [6, 4, 6]])"
      ]
     },
     "execution_count": 53,
     "metadata": {},
     "output_type": "execute_result"
    }
   ],
   "source": [
    "#(2, 3) 크기의 랜덤 정수 배열 생성\n",
    "np.random.randint(2, 10, size=(2, 3))"
   ]
  },
  {
   "cell_type": "markdown",
   "id": "25fd4bd5",
   "metadata": {},
   "source": [
    "### array 연산"
   ]
  },
  {
   "cell_type": "code",
   "execution_count": 54,
   "id": "7129b74e",
   "metadata": {},
   "outputs": [
    {
     "data": {
      "text/plain": [
       "[1, 2, 3, 4, 5, 6]"
      ]
     },
     "execution_count": 54,
     "metadata": {},
     "output_type": "execute_result"
    }
   ],
   "source": [
    "#파이썬의 list 연산\n",
    "list1 = [1,2,3]\n",
    "list2 = [4,5,6]\n",
    "list1 + list2"
   ]
  },
  {
   "cell_type": "code",
   "execution_count": 58,
   "id": "3a6285fa",
   "metadata": {},
   "outputs": [
    {
     "data": {
      "text/plain": [
       "[5, 7, 9]"
      ]
     },
     "execution_count": 58,
     "metadata": {},
     "output_type": "execute_result"
    }
   ],
   "source": [
    "# 파이썬의 list 연산2\n",
    "list3 = []\n",
    "for i in range(len(list1)):\n",
    "    hap = list1[i]+ list2[i]\n",
    "    list3.append(hap)\n",
    "list3"
   ]
  },
  {
   "cell_type": "code",
   "execution_count": 68,
   "id": "a1d72d31",
   "metadata": {},
   "outputs": [
    {
     "name": "stdout",
     "output_type": "stream",
     "text": [
      "[5 7 9]\n",
      "[-3 -3 -3]\n",
      "[ 4 10 18]\n",
      "[0.25 0.4  0.5 ]\n",
      "[1 2 3]\n",
      "[0 0 0]\n"
     ]
    }
   ],
   "source": [
    "#numpy의 array 연산\n",
    "arr1 = np.array(list1)\n",
    "arr2 = np.array(list2)\n",
    "print(arr1 + arr2)\n",
    "print(arr1 - arr2)\n",
    "print(arr1 * arr2)\n",
    "print(arr1 / arr2)\n",
    "print(arr1 % arr2)\n",
    "print(arr1 // arr2)"
   ]
  },
  {
   "cell_type": "markdown",
   "id": "673a2232",
   "metadata": {},
   "source": [
    "### array 배열의 인덱싱, 슬라이싱"
   ]
  },
  {
   "cell_type": "markdown",
   "id": "d0785e4d",
   "metadata": {},
   "source": [
    "#### - 인덱싱"
   ]
  },
  {
   "cell_type": "code",
   "execution_count": 70,
   "id": "59ec98a2",
   "metadata": {},
   "outputs": [
    {
     "data": {
      "text/plain": [
       "1"
      ]
     },
     "execution_count": 70,
     "metadata": {},
     "output_type": "execute_result"
    }
   ],
   "source": [
    "arr = np.array([[1,2,3], [4,5,6]])\n",
    "arr\n",
    "arr[0][0]"
   ]
  },
  {
   "cell_type": "code",
   "execution_count": 72,
   "id": "57d1b582",
   "metadata": {},
   "outputs": [
    {
     "data": {
      "text/plain": [
       "2"
      ]
     },
     "execution_count": 72,
     "metadata": {},
     "output_type": "execute_result"
    }
   ],
   "source": [
    "#특정 행, 열 인덱싱1\n",
    "#숫자2\n",
    "arr[0][1]"
   ]
  },
  {
   "cell_type": "code",
   "execution_count": 73,
   "id": "070fc980",
   "metadata": {},
   "outputs": [
    {
     "data": {
      "text/plain": [
       "2"
      ]
     },
     "execution_count": 73,
     "metadata": {},
     "output_type": "execute_result"
    }
   ],
   "source": [
    "#특정 행, 열 인덱싱2\n",
    "arr[0, 1]"
   ]
  },
  {
   "cell_type": "markdown",
   "id": "8fdea124",
   "metadata": {},
   "source": [
    "#### - 슬라이싱"
   ]
  },
  {
   "cell_type": "code",
   "execution_count": 78,
   "id": "eac29190",
   "metadata": {},
   "outputs": [
    {
     "data": {
      "text/plain": [
       "array([3, 4, 5])"
      ]
     },
     "execution_count": 78,
     "metadata": {},
     "output_type": "execute_result"
    }
   ],
   "source": [
    "# 0~9까지 담긴 1차원 배열\n",
    "arr1 = np.arange(10)\n",
    "arr1[3:6]"
   ]
  },
  {
   "cell_type": "code",
   "execution_count": 80,
   "id": "0ec1a046",
   "metadata": {},
   "outputs": [
    {
     "data": {
      "text/plain": [
       "array([ 0,  1,  2,  3,  4,  5,  6,  7,  8,  9, 10, 11, 12, 13, 14, 15, 16,\n",
       "       17, 18, 19, 20, 21, 22, 23, 24, 25, 26, 27, 28, 29, 30, 31, 32, 33,\n",
       "       34, 35, 36, 37, 38, 39, 40, 41, 42, 43, 44, 45, 46, 47, 48, 49])"
      ]
     },
     "execution_count": 80,
     "metadata": {},
     "output_type": "execute_result"
    }
   ],
   "source": [
    "# 2차원 배열 슬라이싱\n",
    "# 0~49 배열 생성\n",
    "arr2 = np.arange(50)\n",
    "arr2"
   ]
  },
  {
   "cell_type": "code",
   "execution_count": 104,
   "id": "cbfa90a0",
   "metadata": {},
   "outputs": [
    {
     "name": "stdout",
     "output_type": "stream",
     "text": [
      "[[ 0  1  2  3  4  5  6  7  8  9]\n",
      " [10 11 12 13 14 15 16 17 18 19]\n",
      " [20 21 22 23 24 25 26 27 28 29]\n",
      " [30 31 32 33 34 35 36 37 38 39]\n",
      " [40 41 42 43 44 45 46 47 48 49]]\n"
     ]
    },
    {
     "data": {
      "text/plain": [
       "array([21, 23])"
      ]
     },
     "execution_count": 104,
     "metadata": {},
     "output_type": "execute_result"
    }
   ],
   "source": [
    "# reshape() 함수 - 배열의 크기 다시 지정 (반드시 재지정하려는 배열의 개수가 같아야 함.)\n",
    "# [행의 범위, 열의 범위]\n",
    "arr2 = np.arange(50).reshape(5,10)\n",
    "print(arr2)\n",
    "arr2[:4, : 5]\n",
    "arr2[2][3]\n",
    "\n",
    "arr2[2][1], arr2[2][3]\n",
    "arr2[(2, 2), (1, 3)]"
   ]
  },
  {
   "cell_type": "markdown",
   "id": "4748dce2",
   "metadata": {},
   "source": [
    "### BMI 구하기"
   ]
  },
  {
   "cell_type": "code",
   "execution_count": 114,
   "id": "2e48ff16",
   "metadata": {},
   "outputs": [
    {
     "data": {
      "text/plain": [
       "array([[175.2, 180.3, 175. , 169.2, 185.2, 188. , 177.6, 178.2, 177. ,\n",
       "        179. ],\n",
       "       [ 65.6,  88. ,  79.2,  69.3,  55. ,  71.2,  73. ,  68.9,  74. ,\n",
       "         82. ]])"
      ]
     },
     "execution_count": 114,
     "metadata": {},
     "output_type": "execute_result"
    }
   ],
   "source": [
    "#('파일명.확장자', '구분 기호')\n",
    "# delimiter : 구분 기호\n",
    "data = np.loadtxt('height_weight.txt', delimiter=',')\n",
    "data"
   ]
  },
  {
   "cell_type": "code",
   "execution_count": 116,
   "id": "c31f8678",
   "metadata": {},
   "outputs": [
    {
     "data": {
      "text/plain": [
       "array([65.6, 88. , 79.2, 69.3, 55. , 71.2, 73. , 68.9, 74. , 82. ])"
      ]
     },
     "execution_count": 116,
     "metadata": {},
     "output_type": "execute_result"
    }
   ],
   "source": [
    "#1. 데이터를 키와 몸무게로 나누기\n",
    "height = data[0]\n",
    "weight = data[1]"
   ]
  },
  {
   "cell_type": "code",
   "execution_count": 128,
   "id": "7616535b",
   "metadata": {},
   "outputs": [],
   "source": [
    "#2. 키 단위 변경( cm -> m)\n",
    "# 나누기 100 or 곱하기 0.01\n",
    "height_m = height/100"
   ]
  },
  {
   "cell_type": "code",
   "execution_count": 132,
   "id": "0c05d97c",
   "metadata": {},
   "outputs": [
    {
     "data": {
      "text/plain": [
       "array([21.37153104, 27.07018468, 25.86122449, 24.20652885, 16.03543423,\n",
       "       20.14486193, 23.14392095, 21.69720651, 23.62028791, 25.59220998])"
      ]
     },
     "execution_count": 132,
     "metadata": {},
     "output_type": "execute_result"
    }
   ],
   "source": [
    "#3. BMI 연산\n",
    "bmi = weight/(height_m*height_m)\n",
    "bmi"
   ]
  },
  {
   "cell_type": "markdown",
   "id": "60569633",
   "metadata": {},
   "source": [
    "### Boolean 인덱싱\n",
    "- Boolean : True/False\n",
    "- True 값은 출력\n",
    "- False 값은 출력하지 않음"
   ]
  },
  {
   "cell_type": "code",
   "execution_count": 7,
   "id": "2f9139b3",
   "metadata": {},
   "outputs": [
    {
     "data": {
      "text/plain": [
       "array(['철수', '영수', '영희', '영철'], dtype='<U2')"
      ]
     },
     "execution_count": 7,
     "metadata": {},
     "output_type": "execute_result"
    }
   ],
   "source": [
    "\n",
    "name = np.array(['철수', '영수', '영희','영철'])\n",
    "name"
   ]
  },
  {
   "cell_type": "code",
   "execution_count": 8,
   "id": "bc0c8fe6",
   "metadata": {},
   "outputs": [
    {
     "data": {
      "text/plain": [
       "array([ True, False,  True, False])"
      ]
     },
     "execution_count": 8,
     "metadata": {},
     "output_type": "execute_result"
    }
   ],
   "source": [
    "bool = np.array([True, False, True, False])\n",
    "bool"
   ]
  },
  {
   "cell_type": "code",
   "execution_count": 9,
   "id": "6ea077ee",
   "metadata": {},
   "outputs": [
    {
     "data": {
      "text/plain": [
       "array(['철수', '영희'], dtype='<U2')"
      ]
     },
     "execution_count": 9,
     "metadata": {},
     "output_type": "execute_result"
    }
   ],
   "source": [
    "name[bool]"
   ]
  },
  {
   "cell_type": "code",
   "execution_count": 11,
   "id": "1690b9e5",
   "metadata": {},
   "outputs": [],
   "source": [
    "#데이터 생성\n",
    "name_score = np.array([['철수', 100],\n",
    "                     ['영희', 90],\n",
    "                     ['영수', 80],\n",
    "                     ['영철', 70]])"
   ]
  },
  {
   "cell_type": "code",
   "execution_count": 12,
   "id": "d89eb8cf",
   "metadata": {},
   "outputs": [
    {
     "data": {
      "text/plain": [
       "array([['철수', '100'],\n",
       "       ['영희', '90'],\n",
       "       ['영수', '80'],\n",
       "       ['영철', '70']], dtype='<U11')"
      ]
     },
     "execution_count": 12,
     "metadata": {},
     "output_type": "execute_result"
    }
   ],
   "source": [
    "name_score"
   ]
  },
  {
   "cell_type": "code",
   "execution_count": 13,
   "id": "eb8e6591",
   "metadata": {},
   "outputs": [
    {
     "data": {
      "text/plain": [
       "'90'"
      ]
     },
     "execution_count": 13,
     "metadata": {},
     "output_type": "execute_result"
    }
   ],
   "source": [
    "#영희의 점수?\n",
    "name_score[1][1]"
   ]
  },
  {
   "cell_type": "code",
   "execution_count": 24,
   "id": "4baeed31",
   "metadata": {},
   "outputs": [
    {
     "data": {
      "text/plain": [
       "array(['철수', '영희', '영수', '영철'], dtype='<U11')"
      ]
     },
     "execution_count": 24,
     "metadata": {},
     "output_type": "execute_result"
    }
   ],
   "source": [
    "#영희의 데이터\n",
    "#1.이름 데이터만 인덱싱\n",
    "name_score[:, 0]"
   ]
  },
  {
   "cell_type": "code",
   "execution_count": 25,
   "id": "3929f04d",
   "metadata": {},
   "outputs": [
    {
     "data": {
      "text/plain": [
       "array([False,  True, False, False])"
      ]
     },
     "execution_count": 25,
     "metadata": {},
     "output_type": "execute_result"
    }
   ],
   "source": [
    "#2. 가져온 데이터에서 '영희'인지 확인\n",
    "name_score[:, 0] =='영희'# 전체데이터에서 0번째 이름이 영희인 데이터 가져오기\n",
    "#불리언"
   ]
  },
  {
   "cell_type": "code",
   "execution_count": 26,
   "id": "e39420f2",
   "metadata": {},
   "outputs": [
    {
     "data": {
      "text/plain": [
       "array([['영희', '90']], dtype='<U11')"
      ]
     },
     "execution_count": 26,
     "metadata": {},
     "output_type": "execute_result"
    }
   ],
   "source": [
    "#3. 조건에 따라 데이터 가져오기(인덱싱)\n",
    "name_score[name_score[:,0]=='영희'] # 전체데이터에서 영희인 데이터만 출력"
   ]
  },
  {
   "cell_type": "markdown",
   "id": "639185b7",
   "metadata": {},
   "source": [
    "### 다양한 함수들"
   ]
  },
  {
   "cell_type": "code",
   "execution_count": 34,
   "id": "617c1796",
   "metadata": {},
   "outputs": [
    {
     "data": {
      "text/plain": [
       "array([ 1,  2,  3,  4,  5,  6,  7,  8,  9, 10])"
      ]
     },
     "execution_count": 34,
     "metadata": {},
     "output_type": "execute_result"
    }
   ],
   "source": [
    "# 1~10까지 담긴 1차원 배열 생성\n",
    "arr = np.arange(1,11)\n",
    "arr"
   ]
  },
  {
   "cell_type": "code",
   "execution_count": 37,
   "id": "5380fa54",
   "metadata": {},
   "outputs": [],
   "source": [
    "# 위에서 생성한 배열을 (2, 5) 크기로 바꿔주기\n",
    "arr = arr.reshape(2, 5)"
   ]
  },
  {
   "cell_type": "code",
   "execution_count": 38,
   "id": "244435c4",
   "metadata": {},
   "outputs": [
    {
     "data": {
      "text/plain": [
       "array([[ 1,  2,  3,  4,  5],\n",
       "       [ 6,  7,  8,  9, 10]])"
      ]
     },
     "execution_count": 38,
     "metadata": {},
     "output_type": "execute_result"
    }
   ],
   "source": [
    "arr"
   ]
  },
  {
   "cell_type": "code",
   "execution_count": 43,
   "id": "63fb7283",
   "metadata": {},
   "outputs": [
    {
     "name": "stdout",
     "output_type": "stream",
     "text": [
      "요소 전체 더하기 :  55\n",
      "세로 방향으로 더하기 :  [ 7  9 11 13 15]\n",
      "가로 방향으로 더하기 :  [15 40]\n"
     ]
    }
   ],
   "source": [
    "# np.sum() : 더하기 함수\n",
    "print(\"요소 전체 더하기 : \", np.sum(arr))\n",
    "print(\"세로 방향으로 더하기 : \",np.sum(arr, axis=0)) # axis = 0 : 세로축\n",
    "print(\"가로 방향으로 더하기 : \",np.sum(arr, axis=1)) # asis= 1 : 가로축"
   ]
  },
  {
   "cell_type": "code",
   "execution_count": 45,
   "id": "c934cb10",
   "metadata": {},
   "outputs": [
    {
     "name": "stdout",
     "output_type": "stream",
     "text": [
      "세로 방향으로 평균구하기 : [3.5 4.5 5.5 6.5 7.5]\n",
      "가로 방향으로 평균구하기 : [3. 8.]\n"
     ]
    }
   ],
   "source": [
    "#np.mean() : 평균 구하기 함수\n",
    "np.mean(arr)\n",
    "print(\"세로 방향으로 평균구하기 :\",np.mean(arr, axis=0))\n",
    "print(\"가로 방향으로 평균구하기 :\",np.mean(arr, axis=1))"
   ]
  },
  {
   "cell_type": "code",
   "execution_count": 48,
   "id": "b853339b",
   "metadata": {},
   "outputs": [
    {
     "data": {
      "text/plain": [
       "array([1, 2, 3, 4, 5, 6])"
      ]
     },
     "execution_count": 48,
     "metadata": {},
     "output_type": "execute_result"
    }
   ],
   "source": [
    "# abs 절댓값 구하기 함수\n",
    "arr1 = np.array([-1, 2, -3, 4, -5, -6])\n",
    "np.abs(arr1) # 모두 다 절댓값으로 구하기"
   ]
  },
  {
   "cell_type": "markdown",
   "id": "40263ad3",
   "metadata": {},
   "source": [
    "# 2. Pandas\n",
    "\n",
    "- 행과 열로 구성된 표 형식의 데이터를 지원하는 라이브러리\n",
    "- Series Class : 1차원(인덱스 + 값)\n",
    "- DataFrame Class : 2차원(행과 열을 가지는 표의 형태, 서로 다른 종류의 자료형 저장 가능, 엑셀 같이 생김)"
   ]
  },
  {
   "cell_type": "code",
   "execution_count": 49,
   "id": "f26f3c36",
   "metadata": {},
   "outputs": [],
   "source": [
    "import pandas as pd"
   ]
  },
  {
   "cell_type": "markdown",
   "id": "a16bdb36",
   "metadata": {},
   "source": [
    "### Series 생성"
   ]
  },
  {
   "cell_type": "code",
   "execution_count": 53,
   "id": "850ce788",
   "metadata": {},
   "outputs": [
    {
     "data": {
      "text/plain": [
       "0    9904312\n",
       "1    3448737\n",
       "2    2890451\n",
       "3    2466052\n",
       "dtype: int64"
      ]
     },
     "execution_count": 53,
     "metadata": {},
     "output_type": "execute_result"
    }
   ],
   "source": [
    "population = pd.Series([9904312, 3448737, 2890451, 2466052])\n",
    "population"
   ]
  },
  {
   "cell_type": "code",
   "execution_count": 55,
   "id": "5f8ee741",
   "metadata": {},
   "outputs": [
    {
     "data": {
      "text/plain": [
       "서울    9904312\n",
       "부산    3448737\n",
       "인천    2890451\n",
       "대구    2466052\n",
       "dtype: int64"
      ]
     },
     "execution_count": 55,
     "metadata": {},
     "output_type": "execute_result"
    }
   ],
   "source": [
    "#인덱스 지정이 가능함\n",
    "population = pd.Series([9904312, 3448737, 2890451, 2466052],\n",
    "         index=['서울', '부산','인천', '대구'])\n",
    "population"
   ]
  },
  {
   "cell_type": "markdown",
   "id": "b9d76bf6",
   "metadata": {},
   "source": [
    "# 3. Matplotlib\n",
    "- 2D 그래프로 시각화가 가능한 라이브러리"
   ]
  },
  {
   "cell_type": "code",
   "execution_count": null,
   "id": "86bc4680",
   "metadata": {},
   "outputs": [],
   "source": []
  },
  {
   "cell_type": "code",
   "execution_count": null,
   "id": "95f08bba",
   "metadata": {},
   "outputs": [],
   "source": []
  },
  {
   "cell_type": "code",
   "execution_count": null,
   "id": "f66c30ad",
   "metadata": {},
   "outputs": [],
   "source": []
  },
  {
   "cell_type": "code",
   "execution_count": null,
   "id": "fbdd38a1",
   "metadata": {},
   "outputs": [],
   "source": [
    "\n"
   ]
  }
 ],
 "metadata": {
  "kernelspec": {
   "display_name": "Python 3 (ipykernel)",
   "language": "python",
   "name": "python3"
  },
  "language_info": {
   "codemirror_mode": {
    "name": "ipython",
    "version": 3
   },
   "file_extension": ".py",
   "mimetype": "text/x-python",
   "name": "python",
   "nbconvert_exporter": "python",
   "pygments_lexer": "ipython3",
   "version": "3.9.7"
  }
 },
 "nbformat": 4,
 "nbformat_minor": 5
}
